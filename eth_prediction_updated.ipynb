{
 "cells": [
  {
   "cell_type": "markdown",
   "id": "726d348b",
   "metadata": {},
   "source": [
    "# ETH/USD Price Prediction & Trade Signal Generator\n",
    "Este notebook permite entrenar, actualizar y usar un modelo RNN para predecir el precio de ETH/USD.\n",
    "Además, genera señales de trading basadas en predicciones futuras (comprar, vender o mantener)."
   ]
  },
  {
   "cell_type": "code",
   "execution_count": 1,
   "id": "2e7540ea",
   "metadata": {},
   "outputs": [
    {
     "name": "stderr",
     "output_type": "stream",
     "text": [
      "2025-04-14 23:24:18.803178: I tensorflow/core/util/port.cc:153] oneDNN custom operations are on. You may see slightly different numerical results due to floating-point round-off errors from different computation orders. To turn them off, set the environment variable `TF_ENABLE_ONEDNN_OPTS=0`.\n",
      "2025-04-14 23:24:18.812513: E external/local_xla/xla/stream_executor/cuda/cuda_fft.cc:467] Unable to register cuFFT factory: Attempting to register factory for plugin cuFFT when one has already been registered\n",
      "WARNING: All log messages before absl::InitializeLog() is called are written to STDERR\n",
      "E0000 00:00:1744665858.824198   20636 cuda_dnn.cc:8579] Unable to register cuDNN factory: Attempting to register factory for plugin cuDNN when one has already been registered\n",
      "E0000 00:00:1744665858.827447   20636 cuda_blas.cc:1407] Unable to register cuBLAS factory: Attempting to register factory for plugin cuBLAS when one has already been registered\n",
      "W0000 00:00:1744665858.835542   20636 computation_placer.cc:177] computation placer already registered. Please check linkage and avoid linking the same target more than once.\n",
      "W0000 00:00:1744665858.835554   20636 computation_placer.cc:177] computation placer already registered. Please check linkage and avoid linking the same target more than once.\n",
      "W0000 00:00:1744665858.835555   20636 computation_placer.cc:177] computation placer already registered. Please check linkage and avoid linking the same target more than once.\n",
      "W0000 00:00:1744665858.835556   20636 computation_placer.cc:177] computation placer already registered. Please check linkage and avoid linking the same target more than once.\n",
      "2025-04-14 23:24:18.838335: I tensorflow/core/platform/cpu_feature_guard.cc:210] This TensorFlow binary is optimized to use available CPU instructions in performance-critical operations.\n",
      "To enable the following instructions: AVX2 AVX512F AVX512_VNNI FMA, in other operations, rebuild TensorFlow with the appropriate compiler flags.\n"
     ]
    }
   ],
   "source": [
    "# Librerías\n",
    "import numpy as np\n",
    "import pandas as pd\n",
    "import tensorflow as tf\n",
    "from tensorflow import keras\n",
    "from tensorflow.keras import layers\n",
    "import matplotlib.pyplot as plt\n",
    "import os\n",
    "from datetime import datetime\n"
   ]
  },
  {
   "cell_type": "code",
   "execution_count": 2,
   "id": "d4981ec5",
   "metadata": {},
   "outputs": [],
   "source": [
    "# Función para cargar los datos históricos\n",
    "SYMBOL = \"ETHUSDT\"\n",
    "INTERVAL = \"1h\"\n",
    "LIMITE = 1000\n",
    "def load_data(symbol=SYMBOL, interval=INTERVAL, limit=LIMITE):\n",
    "    url = f\"https://api.binance.com/api/v3/klines?symbol={symbol}&interval={interval}&limit={limit}\"\n",
    "    df = pd.read_json(url)\n",
    "    df.columns = ['timestamp', 'open', 'high', 'low', 'close', 'volume',\n",
    "                  'close_time', 'quote_asset_volume', 'number_of_trades',\n",
    "                  'taker_buy_base_volume', 'taker_buy_quote_volume', 'ignore']\n",
    "    df['date'] = pd.to_datetime(df['timestamp'], unit='ms')\n",
    "    df['close'] = df['close'].astype(float)\n",
    "    df.set_index('date', inplace=True, drop=False)\n",
    "    return df[['close']]"
   ]
  },
  {
   "cell_type": "code",
   "execution_count": 3,
   "id": "d4f5ca60",
   "metadata": {},
   "outputs": [],
   "source": [
    "def create_windows_np(data, window_size, horizon, shuffle=False):\n",
    "    \"\"\"\n",
    "    Creates a dataset from the given time series data using NumPy.\n",
    "\n",
    "    Parameters:\n",
    "    data (np.ndarray): Time series data with one dimension.\n",
    "    window_size (int): The number of past time steps to use as input features.\n",
    "    horizon (int): The number of future time steps to predict.\n",
    "    shuffle (bool): Shuffle the windows or not.\n",
    "\n",
    "    Returns:\n",
    "    tuple: A tuple containing the input-output pairs (windows, targets) as NumPy arrays.\n",
    "    \"\"\"\n",
    "\n",
    "    X, y = [], []\n",
    "    for i in range(len(data) - window_size - horizon + 1):\n",
    "        X.append(data[i:i+window_size])\n",
    "        y.append(data[i+window_size+horizon-1])\n",
    "\n",
    "    X, y = np.array(X), np.array(y)\n",
    "\n",
    "    if shuffle:\n",
    "        indices = np.arange(len(X))\n",
    "        np.random.shuffle(indices)\n",
    "        X, y = X[indices], y[indices]\n",
    "\n",
    "    return X, y\n"
   ]
  },
  {
   "cell_type": "code",
   "execution_count": 4,
   "id": "71609cbe-3ed3-4e2b-af6b-31c928fb1ee5",
   "metadata": {},
   "outputs": [],
   "source": [
    "def normalize_data(train_data, test_data):\n",
    "    mu = train_data.mean()\n",
    "    sigma = train_data.std()\n",
    "\n",
    "    train_data = (train_data - mu) / sigma\n",
    "    test_data = (test_data - mu) / sigma\n",
    "\n",
    "\n",
    "    return train_data, test_data, mu, sigma"
   ]
  },
  {
   "cell_type": "code",
   "execution_count": 5,
   "id": "90b356e9",
   "metadata": {},
   "outputs": [],
   "source": [
    "# Crear el modelo RNN\n",
    "def build_model(window_size):\n",
    "    inputs = keras.Input(shape=(window_size, 1))\n",
    "    x = layers.Conv1D(32, 3, activation='relu')(inputs)\n",
    "    x = layers.MaxPooling1D(2)(x)\n",
    "    x = layers.Bidirectional(layers.LSTM(16, return_sequences=True))(x)\n",
    "    x = layers.Bidirectional(layers.LSTM(16, return_sequences=True))(x)\n",
    "    x = layers.Bidirectional(layers.LSTM(16))(x)\n",
    "    outputs = layers.Dense(1)(x)\n",
    "    model = keras.Model(inputs, outputs)\n",
    "    model.compile(optimizer='adam', loss=tf.keras.losses.MeanSquaredError())\n",
    "    return model"
   ]
  },
  {
   "cell_type": "code",
   "execution_count": 6,
   "id": "47704add",
   "metadata": {},
   "outputs": [],
   "source": [
    "# Hacer predicción futura\n",
    "def predict_next_price(model, last_window):\n",
    "    return model.predict(last_window)[0][0]"
   ]
  },
  {
   "cell_type": "code",
   "execution_count": 7,
   "id": "5f83914c",
   "metadata": {},
   "outputs": [],
   "source": [
    "# Generar señal de trading según predicción\n",
    "def generate_trade_signal(current_price, predicted_price, threshold=0.03):\n",
    "    change = (predicted_price - current_price) / current_price\n",
    "    print(change)\n",
    "    if change > threshold:\n",
    "        return 'BUY'\n",
    "    elif change < -threshold:\n",
    "        return 'SELL'\n",
    "    else:\n",
    "        return 'HOLD'"
   ]
  },
  {
   "cell_type": "code",
   "execution_count": 14,
   "id": "6fc3c3b6",
   "metadata": {},
   "outputs": [
    {
     "name": "stderr",
     "output_type": "stream",
     "text": [
      "2025-04-14 23:27:17.271746: E external/local_xla/xla/stream_executor/cuda/cuda_platform.cc:51] failed call to cuInit: INTERNAL: CUDA error: Failed call to cuInit: CUDA_ERROR_NO_DEVICE: no CUDA-capable device is detected\n"
     ]
    }
   ],
   "source": [
    "# Ejemplo de uso\n",
    "\n",
    "# Cargar datos\n",
    "df = load_data(symbol=SYMBOL, interval=INTERVAL, limit=LIMITE)\n",
    "\n",
    "# Crear o cargar modelo\n",
    "#model = build_model(window_size)\n",
    "model = keras.models.load_model('/home/eprdz/cryptoAI/eth.keras')  # Descomentar si ya tienes uno entrenado\n",
    "\n",
    "# Entrenar\n",
    "#model.fit(X, y, epochs=10, batch_size=64, validation_split=0.2)\n",
    "#model.save('eth_rnn_model.h5')"
   ]
  },
  {
   "cell_type": "code",
   "execution_count": 9,
   "id": "66177e5f-7f31-4f85-ac91-a3d1a75e87c2",
   "metadata": {},
   "outputs": [
    {
     "name": "stdout",
     "output_type": "stream",
     "text": [
      "http://www.cryptodatadownload.com/cdd/Gemini_BTCUSD_1h.csv\n"
     ]
    },
    {
     "name": "stderr",
     "output_type": "stream",
     "text": [
      "/tmp/ipykernel_20636/1443250311.py:7: ParserWarning: Falling back to the 'python' engine because the 'c' engine does not support skipfooter; you can avoid this warning by specifying engine='python'.\n",
      "  df = pd.read_csv(file_path, parse_dates=['date'], skiprows=1, skipfooter=1)\n",
      "/tmp/ipykernel_20636/1443250311.py:14: ParserWarning: Falling back to the 'python' engine because the 'c' engine does not support skipfooter; you can avoid this warning by specifying engine='python'.\n",
      "  df_coin = pd.read_csv(coin_path,\n",
      "/tmp/ipykernel_20636/1443250311.py:14: ParserWarning: Falling back to the 'python' engine because the 'c' engine does not support skipfooter; you can avoid this warning by specifying engine='python'.\n",
      "  df_coin = pd.read_csv(coin_path,\n",
      "/tmp/ipykernel_20636/1443250311.py:14: ParserWarning: Falling back to the 'python' engine because the 'c' engine does not support skipfooter; you can avoid this warning by specifying engine='python'.\n",
      "  df_coin = pd.read_csv(coin_path,\n",
      "/tmp/ipykernel_20636/1443250311.py:14: ParserWarning: Falling back to the 'python' engine because the 'c' engine does not support skipfooter; you can avoid this warning by specifying engine='python'.\n",
      "  df_coin = pd.read_csv(coin_path,\n"
     ]
    },
    {
     "data": {
      "text/plain": [
       "date\n",
       "2025-03-27 19:00:00    2009.53\n",
       "2025-03-27 20:00:00    2004.41\n",
       "2025-03-27 21:00:00    2007.58\n",
       "2025-03-27 22:00:00    2016.54\n",
       "2025-03-27 23:00:00    2007.16\n",
       "Name: ETH, dtype: float64"
      ]
     },
     "execution_count": 9,
     "metadata": {},
     "output_type": "execute_result"
    }
   ],
   "source": [
    "# http://www.cryptodatadownload.com/cdd/gemini_{0}USD_1hr.csv\n",
    "# '../data/gemini_{0}USD_1hr.csv'\n",
    "def get_coin_df(fpath='../data/gemini_{0}USD_1hr.csv'):\n",
    "    coins = ['BTC', 'ETH', 'LTC', 'ZEC', 'DOGE']\n",
    "    file_path = fpath.format('BTC')\n",
    "    print(file_path)\n",
    "    df = pd.read_csv(file_path, parse_dates=['date'], skiprows=1, skipfooter=1)\n",
    "    df = df[['date', 'open']]\n",
    "    df = df.set_index('date')\n",
    "    df = df.sort_index()\n",
    "    df = df.rename(columns={'open': 'BTC'})\n",
    "    for coin in ['ETH', 'LTC', 'ZEC', 'DOGE']:\n",
    "        coin_path = fpath.format(coin)\n",
    "        df_coin = pd.read_csv(coin_path,\n",
    "                              parse_dates=['date'],\n",
    "                              skiprows=1,\n",
    "                              skipfooter=1)\n",
    "        df_coin = df_coin[['date', 'open']]\n",
    "        df_coin = df_coin.set_index('date')\n",
    "        df_coin = df_coin.sort_index()\n",
    "        df_coin = df_coin.rename(columns={'open': coin})\n",
    "        df[coin] = np.nan\n",
    "        df.loc[df_coin.index, coin] = df_coin.values.flatten()\n",
    "    return df\n",
    "\n",
    "\n",
    "df = get_coin_df(\n",
    "    fpath='http://www.cryptodatadownload.com/cdd/Gemini_{0}USD_1h.csv')\n",
    "coin_target = 'ETH' #  Coin that we want to predict, ['BTC', 'ETH', 'LTC', 'ZEC']\n",
    "df_coin = df[coin_target].copy()\n",
    "# delete nan rows\n",
    "df_coin = df_coin.dropna()\n",
    "df_coin.tail()"
   ]
  },
  {
   "cell_type": "code",
   "execution_count": 19,
   "id": "91b9ebac-2011-4747-8ecc-89b8ac43bbf9",
   "metadata": {},
   "outputs": [],
   "source": [
    "# Train-test split\n",
    "test_date = pd.Timestamp(\"2025-04-12\")\n",
    "init_date = pd.Timestamp(\"2019-01-01\")\n",
    "\n",
    "# train_data = df_coin.loc[df_coin.index < test_date].values\n",
    "\n",
    "train_data = df.loc[(df.index < test_date) *\n",
    "                         (df.index > init_date)].values\n",
    "\n",
    "test_data = df.loc[df.index >= test_date].values"
   ]
  },
  {
   "cell_type": "code",
   "execution_count": 20,
   "id": "551c2221-d248-4ae8-b6a1-ac446e167762",
   "metadata": {},
   "outputs": [],
   "source": [
    "train_data, test_data, mu, sigma = normalize_data(train_data, test_data)\n"
   ]
  },
  {
   "cell_type": "code",
   "execution_count": 21,
   "id": "0b7e8fa5-4a5a-4ac7-9d7b-23f02d19f878",
   "metadata": {},
   "outputs": [
    {
     "data": {
      "text/plain": [
       "array([-1.28051332, -1.28061001, -1.28156886, ...,  0.23147797,\n",
       "        0.23869758,  0.23113955])"
      ]
     },
     "execution_count": 21,
     "metadata": {},
     "output_type": "execute_result"
    }
   ],
   "source": [
    "train_data"
   ]
  },
  {
   "cell_type": "code",
   "execution_count": 22,
   "id": "035737b6-65fa-426c-946d-2a218697beff",
   "metadata": {},
   "outputs": [],
   "source": [
    "# Create windows\n",
    "window_size = 12\n",
    "horizon = 48\n",
    "X_train, y_train = create_windows_np(train_data, window_size, horizon, shuffle=True)\n",
    "X_test, y_test = create_windows_np(test_data, window_size, horizon, shuffle=False)"
   ]
  },
  {
   "cell_type": "code",
   "execution_count": 84,
   "id": "b323a920-962f-425e-973e-6b228765be22",
   "metadata": {},
   "outputs": [
    {
     "data": {
      "text/plain": [
       "array([[-1.17822294],\n",
       "       [-1.22988744],\n",
       "       [-1.27711574],\n",
       "       [-1.23179841],\n",
       "       [-1.14225572],\n",
       "       [-1.13515783],\n",
       "       [-1.09905411],\n",
       "       [-1.04308993],\n",
       "       [-0.97682015],\n",
       "       [-0.93764523],\n",
       "       [-0.97504568],\n",
       "       [-0.96112288],\n",
       "       [-0.8713072 ],\n",
       "       [-0.65604986],\n",
       "       [-0.55306212],\n",
       "       [-0.53927583],\n",
       "       [-0.62219836],\n",
       "       [-0.68976487],\n",
       "       [-0.57483355],\n",
       "       [-0.6296375 ],\n",
       "       [-0.58452491],\n",
       "       [-0.59742397],\n",
       "       [-0.58036172],\n",
       "       [-0.6190589 ],\n",
       "       [-0.6332547 ],\n",
       "       [-0.80380894],\n",
       "       [-0.74723052],\n",
       "       [-0.75316819],\n",
       "       [-0.85915888],\n",
       "       [-0.85724791],\n",
       "       [-0.80462793],\n",
       "       [-0.82844683],\n",
       "       [-0.77999004],\n",
       "       [-0.7353552 ],\n",
       "       [-0.79828077],\n",
       "       [-0.89137241],\n",
       "       [-0.89983528],\n",
       "       [-1.0962559 ],\n",
       "       [-1.01606333],\n",
       "       [-1.01190014],\n",
       "       [-0.9499983 ],\n",
       "       [-0.66963141],\n",
       "       [-0.71610898],\n",
       "       [-0.98712575],\n",
       "       [-0.98364505],\n",
       "       [-0.96262436],\n",
       "       [-1.01497134],\n",
       "       [-0.93587075],\n",
       "       [-0.83970791],\n",
       "       [-0.80223921],\n",
       "       [-0.67870853],\n",
       "       [-0.71863419],\n",
       "       [-0.67133764],\n",
       "       [-0.75419192],\n",
       "       [-0.75835511],\n",
       "       [-0.67782129],\n",
       "       [-0.65932581],\n",
       "       [-0.63844162],\n",
       "       [-0.38257613],\n",
       "       [-0.40653152],\n",
       "       [-0.39008352],\n",
       "       [-0.52214533],\n",
       "       [-0.41963533],\n",
       "       [-0.72996353],\n",
       "       [-0.72975878],\n",
       "       [-0.64588076]])"
      ]
     },
     "execution_count": 84,
     "metadata": {},
     "output_type": "execute_result"
    }
   ],
   "source": [
    "model.fit(X_train, y_test, epochs=10, batch_size=64, validation_split=0.2)"
   ]
  },
  {
   "cell_type": "code",
   "execution_count": 68,
   "id": "5d07c10a-94b6-476e-afd4-a38e6a58ba4d",
   "metadata": {},
   "outputs": [
    {
     "name": "stdout",
     "output_type": "stream",
     "text": [
      "Epoch 1/10\n",
      "\u001b[1m5/5\u001b[0m \u001b[32m━━━━━━━━━━━━━━━━━━━━\u001b[0m\u001b[37m\u001b[0m \u001b[1m2s\u001b[0m 11ms/step - loss: 0.6482\n",
      "Epoch 2/10\n",
      "\u001b[1m5/5\u001b[0m \u001b[32m━━━━━━━━━━━━━━━━━━━━\u001b[0m\u001b[37m\u001b[0m \u001b[1m0s\u001b[0m 11ms/step - loss: 0.5968\n",
      "Epoch 3/10\n",
      "\u001b[1m5/5\u001b[0m \u001b[32m━━━━━━━━━━━━━━━━━━━━\u001b[0m\u001b[37m\u001b[0m \u001b[1m0s\u001b[0m 11ms/step - loss: 0.5228\n",
      "Epoch 4/10\n",
      "\u001b[1m5/5\u001b[0m \u001b[32m━━━━━━━━━━━━━━━━━━━━\u001b[0m\u001b[37m\u001b[0m \u001b[1m0s\u001b[0m 11ms/step - loss: 0.4878\n",
      "Epoch 5/10\n",
      "\u001b[1m5/5\u001b[0m \u001b[32m━━━━━━━━━━━━━━━━━━━━\u001b[0m\u001b[37m\u001b[0m \u001b[1m0s\u001b[0m 10ms/step - loss: 0.5014\n",
      "Epoch 6/10\n",
      "\u001b[1m5/5\u001b[0m \u001b[32m━━━━━━━━━━━━━━━━━━━━\u001b[0m\u001b[37m\u001b[0m \u001b[1m0s\u001b[0m 10ms/step - loss: 0.5361\n",
      "Epoch 7/10\n",
      "\u001b[1m5/5\u001b[0m \u001b[32m━━━━━━━━━━━━━━━━━━━━\u001b[0m\u001b[37m\u001b[0m \u001b[1m0s\u001b[0m 18ms/step - loss: 0.4773\n",
      "Epoch 8/10\n",
      "\u001b[1m5/5\u001b[0m \u001b[32m━━━━━━━━━━━━━━━━━━━━\u001b[0m\u001b[37m\u001b[0m \u001b[1m0s\u001b[0m 11ms/step - loss: 0.5252\n",
      "Epoch 9/10\n",
      "\u001b[1m5/5\u001b[0m \u001b[32m━━━━━━━━━━━━━━━━━━━━\u001b[0m\u001b[37m\u001b[0m \u001b[1m0s\u001b[0m 11ms/step - loss: 0.5228\n",
      "Epoch 10/10\n",
      "\u001b[1m5/5\u001b[0m \u001b[32m━━━━━━━━━━━━━━━━━━━━\u001b[0m\u001b[37m\u001b[0m \u001b[1m0s\u001b[0m 10ms/step - loss: 0.5034\n"
     ]
    },
    {
     "data": {
      "text/plain": [
       "<keras.src.callbacks.history.History at 0x7f78d6194790>"
      ]
     },
     "execution_count": 68,
     "metadata": {},
     "output_type": "execute_result"
    }
   ],
   "source": [
    "model.fit(X_train, y_train, epochs=10, batch_size=64)"
   ]
  },
  {
   "cell_type": "code",
   "execution_count": 32,
   "id": "915b023c-8baa-4774-9a52-3a0a9c37721e",
   "metadata": {},
   "outputs": [
    {
     "name": "stdout",
     "output_type": "stream",
     "text": [
      "\u001b[1m1707/1707\u001b[0m \u001b[32m━━━━━━━━━━━━━━━━━━━━\u001b[0m\u001b[37m\u001b[0m \u001b[1m3s\u001b[0m 2ms/step\n",
      "54609\n",
      "max deviation:  1102.582421875\n",
      "RMSE:  119.12335900565853\n",
      "MAE:  71.48167524760005\n"
     ]
    },
    {
     "data": {
      "image/png": "[encoded data removed]",
      "text/plain": [
       "<Figure size 1200x800 with 1 Axes>"
      ]
     },
     "metadata": {},
     "output_type": "display_data"
    }
   ],
   "source": [
    "y_pred = model.predict(X_train).flatten() * sigma + mu\n",
    "y_target = y_train * sigma + mu\n",
    "diff = y_pred - y_target\n",
    "\n",
    "print('max deviation: ', np.abs(y_pred - y_target).max())\n",
    "print('RMSE: ', np.mean((y_pred - y_target)**2)**0.5)\n",
    "print('MAE: ', np.abs(y_pred - y_target).mean())\n",
    "\n",
    "plt.figure(figsize=(12, 8))\n",
    "plt.plot(diff)\n",
    "plt.legend(['True {0}'.format(\"ETH\"), 'Predictions {0}'.format(\"ETH\")])\n",
    "plt.show()"
   ]
  },
  {
   "cell_type": "code",
   "execution_count": 35,
   "id": "e681e89a",
   "metadata": {},
   "outputs": [
    {
     "name": "stdout",
     "output_type": "stream",
     "text": [
      "\u001b[1m1/1\u001b[0m \u001b[32m━━━━━━━━━━━━━━━━━━━━\u001b[0m\u001b[37m\u001b[0m \u001b[1m0s\u001b[0m 26ms/step\n",
      "-0.4779241576365348\n",
      "Current price: 3111.27\n",
      "Predicted next price: 1624.32\n",
      "Trade signal: SELL\n"
     ]
    }
   ],
   "source": [
    "# Predecir y generar señal\n",
    "last_window = X_train[-window_size:]\n",
    "current_price = y_train[-1] * sigma + mu\n",
    "predicted_price = predict_next_price(model, last_window) * sigma + mu\n",
    "signal = generate_trade_signal(current_price, predicted_price)\n",
    "\n",
    "print(f'Current price: {current_price:.2f}')\n",
    "print(f'Predicted next price: {predicted_price:.2f}')\n",
    "print(f'Trade signal: {signal}')"
   ]
  },
  {
   "cell_type": "markdown",
   "id": "6c55e14f-fe34-4e82-ab67-d293fcde2d28",
   "metadata": {},
   "source": [
    "## Updates to update model and use it with new data"
   ]
  },
  {
   "cell_type": "code",
   "execution_count": null,
   "id": "29b114e6-4200-4329-953e-71d345d710fa",
   "metadata": {},
   "outputs": [],
   "source": [
    "# ====== CONFIGURACIÓN ======\n",
    "WINDOW_SIZE = 12\n",
    "MODELO_PATH = \"eth_rnn_model.h5\"\n",
    "BASE_SAVE_PATH = \"eth_rnn_model\"\n",
    "\n",
    "# ====== FUNCIONES ======\n",
    "\n",
    "def filtrar_datos_nuevos(df, ultima_fecha):\n",
    "    return df[df['date'] > ultima_fecha]\n",
    "\n",
    "def crear_ventanas(data, window_size):\n",
    "    X, y = [], []\n",
    "    for i in range(len(data) - window_size):\n",
    "        X.append(data[i:i+window_size])\n",
    "        y.append(data[i+window_size])\n",
    "    return np.array(X), np.array(y)\n",
    "\n",
    "def actualizar_modelo(modelo, df_nuevo, window_size):\n",
    "    serie = df_nuevo['close'].values\n",
    "    X_nuevo, y_nuevo = crear_ventanas(serie, window_size)\n",
    "    if len(X_nuevo) == 0:\n",
    "        print(\"No hay datos suficientes nuevos para actualizar.\")\n",
    "        return modelo\n",
    "    X_nuevo = X_nuevo.reshape((X_nuevo.shape[0], X_nuevo.shape[1], 1))\n",
    "    modelo.fit(X_nuevo, y_nuevo, epochs=5, batch_size=32, verbose=1,\n",
    "               callbacks=[\n",
    "                   keras.callbacks.ReduceLROnPlateau(monitor='loss', factor=0.5, patience=2, min_lr=1e-6),\n",
    "                   keras.callbacks.EarlyStopping(monitor='loss', patience=3)\n",
    "               ])\n",
    "    return modelo\n",
    "\n",
    "def guardar_modelo_con_fecha(model, base_path=BASE_SAVE_PATH):\n",
    "    fecha = datetime.now().strftime('%Y%m%d_%H%M')\n",
    "    ruta = f\"{base_path}_{fecha}.h5\"\n",
    "    model.save(ruta)\n",
    "    print(f\"Modelo guardado en: {ruta}\")"
   ]
  }
 ],
 "metadata": {
  "kernelspec": {
   "display_name": "Python 3 (ipykernel)",
   "language": "python",
   "name": "python3"
  },
  "language_info": {
   "codemirror_mode": {
    "name": "ipython",
    "version": 3
   },
   "file_extension": ".py",
   "mimetype": "text/x-python",
   "name": "python",
   "nbconvert_exporter": "python",
   "pygments_lexer": "ipython3",
   "version": "3.10.13"
  },
  "widgets": {
   "application/vnd.jupyter.widget-state+json": {
    "state": {},
    "version_major": 2,
    "version_minor": 0
   }
  }
 },
 "nbformat": 4,
 "nbformat_minor": 5
}
